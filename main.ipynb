{
 "cells": [
  {
   "cell_type": "code",
   "execution_count": 1,
   "metadata": {},
   "outputs": [
    {
     "name": "stderr",
     "output_type": "stream",
     "text": [
      "[nltk_data] Downloading package stopwords to\n",
      "[nltk_data]     /Users/prettyallo/nltk_data...\n",
      "[nltk_data]   Package stopwords is already up-to-date!\n",
      "[nltk_data] Downloading package stopwords to\n",
      "[nltk_data]     /Users/prettyallo/nltk_data...\n",
      "[nltk_data]   Package stopwords is already up-to-date!\n",
      "[nltk_data] Downloading package wordnet to\n",
      "[nltk_data]     /Users/prettyallo/nltk_data...\n",
      "[nltk_data]   Package wordnet is already up-to-date!\n"
     ]
    }
   ],
   "source": [
    "from ExtractContent import *\n",
    "from sklearn.neighbors import KNeighborsClassifier\n",
    "from sklearn.tree import DecisionTreeClassifier\n",
    "from sklearn.ensemble import RandomForestClassifier\n",
    "from sklearn.naive_bayes import MultinomialNB\n",
    "from sklearn.linear_model import LogisticRegression, SGDClassifier\n",
    "from sklearn.svm import SVC\n",
    "from sklearn.metrics import precision_score, recall_score\n",
    "from sklearn.metrics import confusion_matrix\n",
    "from sklearn.feature_extraction.text import CountVectorizer\n"
   ]
  },
  {
   "cell_type": "code",
   "execution_count": 2,
   "metadata": {},
   "outputs": [],
   "source": [
    "#Sauvegarde des target\n",
    "emailTargets = GetTrainingClassification(\"DataSet\" + os.path.sep + \"spam-mail.tr.label\")\n",
    "\n",
    "# genere le dataset de Trainning Testing\n",
    "ExtractBodyFromDir(\"DataSet\" + os.path.sep + \"TR\", \"DataSet\" + os.path.sep + \"TRemailSet\")\n",
    "BuldingDataSet(\"DataSet\" + os.path.sep + \"TRemailSet\", \"DataSet\" + os.path.sep + \"TRemailSet\", \"DataSet\" + os.path.sep + \"TrainningSet.csv\", emailTargets)\n",
    "\n",
    "# genere le dataset de Testing\n",
    "ExtractBodyFromDir(\"DataSet\" + os.path.sep + \"TT\", \"DataSet\" + os.path.sep + \"TTemailSet\")\n",
    "BuldingDataSet(\"DataSet\" + os.path.sep + \"TTemailSet\", \"DataSet\" + os.path.sep + \"TTemailSet\", \"DataSet\" + os.path.sep + \"TestingSet.csv\", emailTargets)\n"
   ]
  },
  {
   "cell_type": "code",
   "execution_count": 3,
   "metadata": {},
   "outputs": [],
   "source": [
    "# Chargement des dataset \".csv\"\n",
    "TrainDataSet = pd.read_csv(\"DataSet\"+os.path.sep+\"TrainningSet.csv\", sep=';', names=('Subject', 'Content', 'SPAM'))\n",
    "TestDataSet = pd.read_csv(\"DataSet\"+os.path.sep+\"TestingSet.csv\", sep=';', names=('Subject', 'Content'))"
   ]
  },
  {
   "cell_type": "code",
   "execution_count": 4,
   "metadata": {},
   "outputs": [
    {
     "data": {
      "text/html": [
       "<div>\n",
       "<style scoped>\n",
       "    .dataframe tbody tr th:only-of-type {\n",
       "        vertical-align: middle;\n",
       "    }\n",
       "\n",
       "    .dataframe tbody tr th {\n",
       "        vertical-align: top;\n",
       "    }\n",
       "\n",
       "    .dataframe thead th {\n",
       "        text-align: right;\n",
       "    }\n",
       "</style>\n",
       "<table border=\"1\" class=\"dataframe\">\n",
       "  <thead>\n",
       "    <tr style=\"text-align: right;\">\n",
       "      <th></th>\n",
       "      <th>Subject</th>\n",
       "      <th>Content</th>\n",
       "      <th>SPAM</th>\n",
       "    </tr>\n",
       "  </thead>\n",
       "  <tbody>\n",
       "    <tr>\n",
       "      <td>0</td>\n",
       "      <td>Re: K3B</td>\n",
       "      <td>B &gt; `athalon-redhat-linux': machine `athalon-r...</td>\n",
       "      <td>1</td>\n",
       "    </tr>\n",
       "    <tr>\n",
       "      <td>1</td>\n",
       "      <td>PROTECT YOUR FAMILY'S FUTURE and Save up to 70%</td>\n",
       "      <td>% &lt;html&gt;&lt;head&gt;&lt;title&gt;ReliaQuote - Save Up To 7...</td>\n",
       "      <td>0</td>\n",
       "    </tr>\n",
       "    <tr>\n",
       "      <td>2</td>\n",
       "      <td>zzzz, do we have your money?</td>\n",
       "      <td>? &lt;html&gt;&lt;body bgcolor=\"#FFFFFF\"&gt;&lt;TABLE cellSpa...</td>\n",
       "      <td>0</td>\n",
       "    </tr>\n",
       "    <tr>\n",
       "      <td>3</td>\n",
       "      <td>HELP WANTED. WORK FROM HOME. FREE INFO</td>\n",
       "      <td>O WE NEED HELP.  We are a 14 year old fortune ...</td>\n",
       "      <td>0</td>\n",
       "    </tr>\n",
       "    <tr>\n",
       "      <td>4</td>\n",
       "      <td>Detecting a closed SSL connection</td>\n",
       "      <td>n I've written my Apple Push Notification clie...</td>\n",
       "      <td>1</td>\n",
       "    </tr>\n",
       "    <tr>\n",
       "      <td>...</td>\n",
       "      <td>...</td>\n",
       "      <td>...</td>\n",
       "      <td>...</td>\n",
       "    </tr>\n",
       "    <tr>\n",
       "      <td>2494</td>\n",
       "      <td>Re: Supporting Apple Remote from a Java app?</td>\n",
       "      <td>? The email thread below is from fall of 2006....</td>\n",
       "      <td>1</td>\n",
       "    </tr>\n",
       "    <tr>\n",
       "      <td>2495</td>\n",
       "      <td>Re: How to manage multiple Internet connections?</td>\n",
       "      <td>? On Sat, 15 May 2010 16:32:05 +0200, Merciadr...</td>\n",
       "      <td>1</td>\n",
       "    </tr>\n",
       "    <tr>\n",
       "      <td>2496</td>\n",
       "      <td>Line?</td>\n",
       "      <td>&lt;html&gt;&lt;head&gt;&lt;title&gt;Cell Booster Antenna&lt;/tit...</td>\n",
       "      <td>0</td>\n",
       "    </tr>\n",
       "    <tr>\n",
       "      <td>2497</td>\n",
       "      <td>DONYA Photo's                         23758</td>\n",
       "      <td>8 &lt;HTML&gt;&lt;BODY&gt;&lt;/head&gt;&lt;BODY&gt;&lt;p&gt;.&amp;nbsp&amp;nbsp Thes...</td>\n",
       "      <td>0</td>\n",
       "    </tr>\n",
       "    <tr>\n",
       "      <td>2498</td>\n",
       "      <td>Re: [ILUG] Email list management howto</td>\n",
       "      <td>o -----BEGIN PGP SIGNED MESSAGE-----Vincent Cu...</td>\n",
       "      <td>1</td>\n",
       "    </tr>\n",
       "  </tbody>\n",
       "</table>\n",
       "<p>2499 rows × 3 columns</p>\n",
       "</div>"
      ],
      "text/plain": [
       "                                               Subject  \\\n",
       "0                                              Re: K3B   \n",
       "1      PROTECT YOUR FAMILY'S FUTURE and Save up to 70%   \n",
       "2                         zzzz, do we have your money?   \n",
       "3               HELP WANTED. WORK FROM HOME. FREE INFO   \n",
       "4                    Detecting a closed SSL connection   \n",
       "...                                                ...   \n",
       "2494      Re: Supporting Apple Remote from a Java app?   \n",
       "2495  Re: How to manage multiple Internet connections?   \n",
       "2496     Line?                                           \n",
       "2497       DONYA Photo's                         23758   \n",
       "2498            Re: [ILUG] Email list management howto   \n",
       "\n",
       "                                                Content  SPAM  \n",
       "0     B > `athalon-redhat-linux': machine `athalon-r...     1  \n",
       "1     % <html><head><title>ReliaQuote - Save Up To 7...     0  \n",
       "2     ? <html><body bgcolor=\"#FFFFFF\"><TABLE cellSpa...     0  \n",
       "3     O WE NEED HELP.  We are a 14 year old fortune ...     0  \n",
       "4     n I've written my Apple Push Notification clie...     1  \n",
       "...                                                 ...   ...  \n",
       "2494  ? The email thread below is from fall of 2006....     1  \n",
       "2495  ? On Sat, 15 May 2010 16:32:05 +0200, Merciadr...     1  \n",
       "2496    <html><head><title>Cell Booster Antenna</tit...     0  \n",
       "2497  8 <HTML><BODY></head><BODY><p>.&nbsp&nbsp Thes...     0  \n",
       "2498  o -----BEGIN PGP SIGNED MESSAGE-----Vincent Cu...     1  \n",
       "\n",
       "[2499 rows x 3 columns]"
      ]
     },
     "execution_count": 4,
     "metadata": {},
     "output_type": "execute_result"
    }
   ],
   "source": [
    "TrainDataSet"
   ]
  },
  {
   "cell_type": "code",
   "execution_count": 5,
   "metadata": {},
   "outputs": [
    {
     "data": {
      "text/html": [
       "<div>\n",
       "<style scoped>\n",
       "    .dataframe tbody tr th:only-of-type {\n",
       "        vertical-align: middle;\n",
       "    }\n",
       "\n",
       "    .dataframe tbody tr th {\n",
       "        vertical-align: top;\n",
       "    }\n",
       "\n",
       "    .dataframe thead th {\n",
       "        text-align: right;\n",
       "    }\n",
       "</style>\n",
       "<table border=\"1\" class=\"dataframe\">\n",
       "  <thead>\n",
       "    <tr style=\"text-align: right;\">\n",
       "      <th></th>\n",
       "      <th>Subject</th>\n",
       "      <th>Content</th>\n",
       "    </tr>\n",
       "  </thead>\n",
       "  <tbody>\n",
       "    <tr>\n",
       "      <td>0</td>\n",
       "      <td>Codeine/Hydrocodone/Phentermin/Vicodin 7.5/750...</td>\n",
       "      <td>p              Order from CanadianPharmacy &amp; S...</td>\n",
       "    </tr>\n",
       "    <tr>\n",
       "      <td>1</td>\n",
       "      <td>Re: Java is for kiddies</td>\n",
       "      <td>s On Tue, 2002-08-27 at 08:58, Joseph S. Barre...</td>\n",
       "    </tr>\n",
       "    <tr>\n",
       "      <td>2</td>\n",
       "      <td>[spam] [SPAM]  Jacob &amp; Co. Watches</td>\n",
       "      <td>s Content-Type: text/plain\\tcharset=\"iso-8859-...</td>\n",
       "    </tr>\n",
       "    <tr>\n",
       "      <td>3</td>\n",
       "      <td>Re: asignar hora a PC</td>\n",
       "      <td>C On Wed, 28 Apr 2010 10:03:15 -0400 (EDT), Ca...</td>\n",
       "    </tr>\n",
       "    <tr>\n",
       "      <td>4</td>\n",
       "      <td>Re: Problem detecting sleep in 10.6</td>\n",
       "      <td>6 Hi Brandon,On 30 Apr 2010, at 17:14, Brandon...</td>\n",
       "    </tr>\n",
       "    <tr>\n",
       "      <td>...</td>\n",
       "      <td>...</td>\n",
       "      <td>...</td>\n",
       "    </tr>\n",
       "    <tr>\n",
       "      <td>1820</td>\n",
       "      <td>Turkey City Lexicon</td>\n",
       "      <td>n URL: http://boingboing.net/#85506002Date: No...</td>\n",
       "    </tr>\n",
       "    <tr>\n",
       "      <td>1821</td>\n",
       "      <td>Re: Forged whitelist spam</td>\n",
       "      <td>m -----BEGIN PGP SIGNED MESSAGE-----Hash: SHA1...</td>\n",
       "    </tr>\n",
       "    <tr>\n",
       "      <td>1822</td>\n",
       "      <td>Re: Boot / LVM best practices</td>\n",
       "      <td>s &gt;&gt;&gt; If you're going to buy two drives, you'd...</td>\n",
       "    </tr>\n",
       "    <tr>\n",
       "      <td>1823</td>\n",
       "      <td>Re: Secure Sofware Key</td>\n",
       "      <td>y Yannick Gingras wrote:&gt;    I am wondering if...</td>\n",
       "    </tr>\n",
       "    <tr>\n",
       "      <td>1824</td>\n",
       "      <td>Good Use for ClamAV</td>\n",
       "      <td>V I'll always be slowly catching up on comp te...</td>\n",
       "    </tr>\n",
       "  </tbody>\n",
       "</table>\n",
       "<p>1825 rows × 2 columns</p>\n",
       "</div>"
      ],
      "text/plain": [
       "                                                Subject  \\\n",
       "0     Codeine/Hydrocodone/Phentermin/Vicodin 7.5/750...   \n",
       "1                               Re: Java is for kiddies   \n",
       "2                    [spam] [SPAM]  Jacob & Co. Watches   \n",
       "3                                 Re: asignar hora a PC   \n",
       "4                   Re: Problem detecting sleep in 10.6   \n",
       "...                                                 ...   \n",
       "1820                                Turkey City Lexicon   \n",
       "1821                          Re: Forged whitelist spam   \n",
       "1822                      Re: Boot / LVM best practices   \n",
       "1823                             Re: Secure Sofware Key   \n",
       "1824                                Good Use for ClamAV   \n",
       "\n",
       "                                                Content  \n",
       "0     p              Order from CanadianPharmacy & S...  \n",
       "1     s On Tue, 2002-08-27 at 08:58, Joseph S. Barre...  \n",
       "2     s Content-Type: text/plain\\tcharset=\"iso-8859-...  \n",
       "3     C On Wed, 28 Apr 2010 10:03:15 -0400 (EDT), Ca...  \n",
       "4     6 Hi Brandon,On 30 Apr 2010, at 17:14, Brandon...  \n",
       "...                                                 ...  \n",
       "1820  n URL: http://boingboing.net/#85506002Date: No...  \n",
       "1821  m -----BEGIN PGP SIGNED MESSAGE-----Hash: SHA1...  \n",
       "1822  s >>> If you're going to buy two drives, you'd...  \n",
       "1823  y Yannick Gingras wrote:>    I am wondering if...  \n",
       "1824  V I'll always be slowly catching up on comp te...  \n",
       "\n",
       "[1825 rows x 2 columns]"
      ]
     },
     "execution_count": 5,
     "metadata": {},
     "output_type": "execute_result"
    }
   ],
   "source": [
    "TestDataSet"
   ]
  },
  {
   "cell_type": "code",
   "execution_count": 6,
   "metadata": {},
   "outputs": [],
   "source": [
    "#Vérifie et supprime les doublons \n",
    "\n",
    "TrainDataSet.drop_duplicates(inplace = True)\n",
    "TestDataSet.drop_duplicates(inplace = True)"
   ]
  },
  {
   "cell_type": "code",
   "execution_count": 7,
   "metadata": {},
   "outputs": [
    {
     "name": "stdout",
     "output_type": "stream",
     "text": [
      "TrainDataSet = (2403, 3)\n",
      "TestDataSet  = (1785, 2)\n"
     ]
    }
   ],
   "source": [
    "print(\"TrainDataSet =\", TrainDataSet.shape)\n",
    "print(\"TestDataSet  =\", TestDataSet.shape)"
   ]
  },
  {
   "cell_type": "code",
   "execution_count": 8,
   "metadata": {},
   "outputs": [
    {
     "name": "stdout",
     "output_type": "stream",
     "text": [
      "Subject    1\n",
      "Content    1\n",
      "SPAM       0\n",
      "dtype: int64\n",
      "Subject    1\n",
      "Content    1\n",
      "dtype: int64\n"
     ]
    }
   ],
   "source": [
    "#Afficher le nombre de données manquantes (NAN, NaN, na) pour chaque colonne du TrainDataSet\n",
    "print( TrainDataSet.isnull().sum() )\n",
    "\n",
    "#Afficher le nombre de données manquantes (NAN, NaN, na) pour chaque colonne du TestDataSet\n",
    "print(TestDataSet.isnull().sum() )"
   ]
  },
  {
   "cell_type": "code",
   "execution_count": 9,
   "metadata": {},
   "outputs": [
    {
     "data": {
      "text/plain": [
       "<matplotlib.axes._subplots.AxesSubplot at 0x7fbc0a822c50>"
      ]
     },
     "execution_count": 9,
     "metadata": {},
     "output_type": "execute_result"
    },
    {
     "data": {
      "image/png": "[encoded data removed]",
      "text/plain": [
       "<Figure size 432x288 with 1 Axes>"
      ]
     },
     "metadata": {
      "needs_background": "light"
     },
     "output_type": "display_data"
    }
   ],
   "source": [
    "#Afficher le graphe du nombre de mail Spam et Non Spam\n",
    "sns.countplot(TrainDataSet.SPAM)"
   ]
  },
  {
   "cell_type": "code",
   "execution_count": 10,
   "metadata": {},
   "outputs": [
    {
     "data": {
      "text/html": [
       "<div>\n",
       "<style scoped>\n",
       "    .dataframe tbody tr th:only-of-type {\n",
       "        vertical-align: middle;\n",
       "    }\n",
       "\n",
       "    .dataframe tbody tr th {\n",
       "        vertical-align: top;\n",
       "    }\n",
       "\n",
       "    .dataframe thead tr th {\n",
       "        text-align: left;\n",
       "    }\n",
       "\n",
       "    .dataframe thead tr:last-of-type th {\n",
       "        text-align: right;\n",
       "    }\n",
       "</style>\n",
       "<table border=\"1\" class=\"dataframe\">\n",
       "  <thead>\n",
       "    <tr>\n",
       "      <th></th>\n",
       "      <th colspan=\"4\" halign=\"left\">Subject</th>\n",
       "      <th colspan=\"4\" halign=\"left\">Content</th>\n",
       "    </tr>\n",
       "    <tr>\n",
       "      <th></th>\n",
       "      <th>count</th>\n",
       "      <th>unique</th>\n",
       "      <th>top</th>\n",
       "      <th>freq</th>\n",
       "      <th>count</th>\n",
       "      <th>unique</th>\n",
       "      <th>top</th>\n",
       "      <th>freq</th>\n",
       "    </tr>\n",
       "    <tr>\n",
       "      <th>SPAM</th>\n",
       "      <th></th>\n",
       "      <th></th>\n",
       "      <th></th>\n",
       "      <th></th>\n",
       "      <th></th>\n",
       "      <th></th>\n",
       "      <th></th>\n",
       "      <th></th>\n",
       "    </tr>\n",
       "  </thead>\n",
       "  <tbody>\n",
       "    <tr>\n",
       "      <td>0</td>\n",
       "      <td>757</td>\n",
       "      <td>732</td>\n",
       "      <td>[SPAM]  Visitor hibody's personal 80% OFF</td>\n",
       "      <td>6</td>\n",
       "      <td>757</td>\n",
       "      <td>742</td>\n",
       "      <td>= Content-Type: text/plain\\t\\tcharset=\"iso-885...</td>\n",
       "      <td>7</td>\n",
       "    </tr>\n",
       "    <tr>\n",
       "      <td>1</td>\n",
       "      <td>1645</td>\n",
       "      <td>1212</td>\n",
       "      <td>Re: Kde 3.5 ...</td>\n",
       "      <td>15</td>\n",
       "      <td>1645</td>\n",
       "      <td>1644</td>\n",
       "      <td>2 Content-Type: text/plain charset=ISO-8859-1C...</td>\n",
       "      <td>2</td>\n",
       "    </tr>\n",
       "  </tbody>\n",
       "</table>\n",
       "</div>"
      ],
      "text/plain": [
       "     Subject                                                        Content  \\\n",
       "       count unique                                        top freq   count   \n",
       "SPAM                                                                          \n",
       "0        757    732  [SPAM]  Visitor hibody's personal 80% OFF    6     757   \n",
       "1       1645   1212                            Re: Kde 3.5 ...   15    1645   \n",
       "\n",
       "                                                                     \n",
       "     unique                                                top freq  \n",
       "SPAM                                                                 \n",
       "0       742  = Content-Type: text/plain\\t\\tcharset=\"iso-885...    7  \n",
       "1      1644  2 Content-Type: text/plain charset=ISO-8859-1C...    2  "
      ]
     },
     "execution_count": 10,
     "metadata": {},
     "output_type": "execute_result"
    }
   ],
   "source": [
    "#Statistique des SPAM et Non SPAM \n",
    "TrainDataSet.groupby('SPAM').describe()"
   ]
  },
  {
   "cell_type": "code",
   "execution_count": 11,
   "metadata": {},
   "outputs": [],
   "source": [
    "def process_msg (DataSet) :\n",
    "\tsm = SnowballStemmer(\"english\")\n",
    "\tDataSet['Text_clain'] =''\n",
    "\tDataSet[\"wordNum\"] = ''\n",
    "\tDataSet[\"messageLength\"] = ''\n",
    "\n",
    "\t#Tokenisation et conversion en minuscules\n",
    "\tDataSet['Text_clain'] = DataSet['Content'].astype(str).map(lambda text: re.sub('[^a-zA-Z0-9]+', ' ',text)).apply(lambda x: (x.lower()).split())\n",
    "\t# compte le nombre de mot dans un message\n",
    "\tDataSet[\"wordNum\"] = DataSet[\"Text_clain\"].apply(len)\n",
    "\tDataSet['Text_clain']= DataSet['Text_clain'].apply(lambda text_list:' '.join(list(map(lambda word:sm.stem(word),(list(filter(lambda text:text not in set(stopwords.words('english')),text_list)))))))\n",
    "\t# compte le nombre de Caractere  du message\n",
    "\tDataSet[\"messageLength\"] = DataSet[\"Text_clain\"].apply(len)"
   ]
  },
  {
   "cell_type": "code",
   "execution_count": 12,
   "metadata": {},
   "outputs": [],
   "source": [
    "process_msg(TestDataSet)\n",
    "process_msg(TrainDataSet)"
   ]
  },
  {
   "cell_type": "code",
   "execution_count": 13,
   "metadata": {},
   "outputs": [],
   "source": [
    "# separe le 'target' et les 'features'\n",
    "y=pd.DataFrame(TrainDataSet.SPAM)\n",
    "x=TrainDataSet.drop(['SPAM'],axis=1)"
   ]
  },
  {
   "cell_type": "code",
   "execution_count": 14,
   "metadata": {},
   "outputs": [],
   "source": [
    "# ceration des variable d'entrainement et de test\n",
    "x_train,x_val,y_train,y_val=train_test_split(x,y,train_size=0.8,test_size=0.2,random_state=0)"
   ]
  },
  {
   "cell_type": "code",
   "execution_count": 15,
   "metadata": {},
   "outputs": [
    {
     "data": {
      "text/plain": [
       "424"
      ]
     },
     "execution_count": 15,
     "metadata": {},
     "output_type": "execute_result"
    }
   ],
   "source": [
    "int(TrainDataSet['wordNum'].mean() )"
   ]
  },
  {
   "cell_type": "code",
   "execution_count": 16,
   "metadata": {},
   "outputs": [
    {
     "data": {
      "text/plain": [
       "450"
      ]
     },
     "execution_count": 16,
     "metadata": {},
     "output_type": "execute_result"
    }
   ],
   "source": [
    "int(TestDataSet['wordNum'].mean() )"
   ]
  },
  {
   "cell_type": "code",
   "execution_count": 17,
   "metadata": {},
   "outputs": [],
   "source": [
    "max_feature=max(int(TrainDataSet['wordNum'].mean() ), int(TestDataSet['wordNum'].mean() ) )"
   ]
  },
  {
   "cell_type": "code",
   "execution_count": 18,
   "metadata": {},
   "outputs": [],
   "source": [
    "# Vectorisation de comptage\n",
    "# Il s'agit de compter le nombre d'occurrences de chaque mot dans le texte donné.\n",
    "\n",
    "vectorize=CountVectorizer(max_features=max_feature)\n",
    "temp_train=vectorize.fit_transform(x_train['Text_clain']).toarray()\n",
    "temp_val=vectorize.transform(x_val['Text_clain']).toarray()"
   ]
  },
  {
   "cell_type": "code",
   "execution_count": 19,
   "metadata": {},
   "outputs": [
    {
     "data": {
      "text/html": [
       "<div>\n",
       "<style scoped>\n",
       "    .dataframe tbody tr th:only-of-type {\n",
       "        vertical-align: middle;\n",
       "    }\n",
       "\n",
       "    .dataframe tbody tr th {\n",
       "        vertical-align: top;\n",
       "    }\n",
       "\n",
       "    .dataframe thead th {\n",
       "        text-align: right;\n",
       "    }\n",
       "</style>\n",
       "<table border=\"1\" class=\"dataframe\">\n",
       "  <thead>\n",
       "    <tr style=\"text-align: right;\">\n",
       "      <th></th>\n",
       "      <th>Subject</th>\n",
       "      <th>Content</th>\n",
       "      <th>Text_clain</th>\n",
       "      <th>wordNum</th>\n",
       "      <th>messageLength</th>\n",
       "    </tr>\n",
       "  </thead>\n",
       "  <tbody>\n",
       "    <tr>\n",
       "      <td>0</td>\n",
       "      <td>Codeine/Hydrocodone/Phentermin/Vicodin 7.5/750...</td>\n",
       "      <td>p              Order from CanadianPharmacy &amp; S...</td>\n",
       "      <td>p order canadianpharmaci save money special ho...</td>\n",
       "      <td>82</td>\n",
       "      <td>466</td>\n",
       "    </tr>\n",
       "    <tr>\n",
       "      <td>1</td>\n",
       "      <td>Re: Java is for kiddies</td>\n",
       "      <td>s On Tue, 2002-08-27 at 08:58, Joseph S. Barre...</td>\n",
       "      <td>tue 2002 08 27 08 58 joseph barrera iii wrote ...</td>\n",
       "      <td>248</td>\n",
       "      <td>935</td>\n",
       "    </tr>\n",
       "    <tr>\n",
       "      <td>2</td>\n",
       "      <td>[spam] [SPAM]  Jacob &amp; Co. Watches</td>\n",
       "      <td>s Content-Type: text/plain\\tcharset=\"iso-8859-...</td>\n",
       "      <td>content type text plain charset iso 8859 1 con...</td>\n",
       "      <td>70</td>\n",
       "      <td>273</td>\n",
       "    </tr>\n",
       "    <tr>\n",
       "      <td>3</td>\n",
       "      <td>Re: asignar hora a PC</td>\n",
       "      <td>C On Wed, 28 Apr 2010 10:03:15 -0400 (EDT), Ca...</td>\n",
       "      <td>c wed 28 apr 2010 10 03 15 0400 edt camal c3 b...</td>\n",
       "      <td>418</td>\n",
       "      <td>1339</td>\n",
       "    </tr>\n",
       "    <tr>\n",
       "      <td>4</td>\n",
       "      <td>Re: Problem detecting sleep in 10.6</td>\n",
       "      <td>6 Hi Brandon,On 30 Apr 2010, at 17:14, Brandon...</td>\n",
       "      <td>6 hi brandon 30 apr 2010 17 14 brandon moon wr...</td>\n",
       "      <td>120</td>\n",
       "      <td>562</td>\n",
       "    </tr>\n",
       "    <tr>\n",
       "      <td>...</td>\n",
       "      <td>...</td>\n",
       "      <td>...</td>\n",
       "      <td>...</td>\n",
       "      <td>...</td>\n",
       "      <td>...</td>\n",
       "    </tr>\n",
       "    <tr>\n",
       "      <td>1820</td>\n",
       "      <td>Turkey City Lexicon</td>\n",
       "      <td>n URL: http://boingboing.net/#85506002Date: No...</td>\n",
       "      <td>n url http boingbo net 85506002date suppliedaf...</td>\n",
       "      <td>286</td>\n",
       "      <td>1030</td>\n",
       "    </tr>\n",
       "    <tr>\n",
       "      <td>1821</td>\n",
       "      <td>Re: Forged whitelist spam</td>\n",
       "      <td>m -----BEGIN PGP SIGNED MESSAGE-----Hash: SHA1...</td>\n",
       "      <td>begin pgp sign messag hash sha1gordon mohr wro...</td>\n",
       "      <td>259</td>\n",
       "      <td>1028</td>\n",
       "    </tr>\n",
       "    <tr>\n",
       "      <td>1822</td>\n",
       "      <td>Re: Boot / LVM best practices</td>\n",
       "      <td>s &gt;&gt;&gt; If you're going to buy two drives, you'd...</td>\n",
       "      <td>go buy two drive stupid use mirror fault toler...</td>\n",
       "      <td>148</td>\n",
       "      <td>531</td>\n",
       "    </tr>\n",
       "    <tr>\n",
       "      <td>1823</td>\n",
       "      <td>Re: Secure Sofware Key</td>\n",
       "      <td>y Yannick Gingras wrote:&gt;    I am wondering if...</td>\n",
       "      <td>yannick gingra wrote wonder techniqu make cd k...</td>\n",
       "      <td>347</td>\n",
       "      <td>1146</td>\n",
       "    </tr>\n",
       "    <tr>\n",
       "      <td>1824</td>\n",
       "      <td>Good Use for ClamAV</td>\n",
       "      <td>V I'll always be slowly catching up on comp te...</td>\n",
       "      <td>v alway slowli catch comp tech use knoppix cla...</td>\n",
       "      <td>135</td>\n",
       "      <td>522</td>\n",
       "    </tr>\n",
       "  </tbody>\n",
       "</table>\n",
       "<p>1785 rows × 5 columns</p>\n",
       "</div>"
      ],
      "text/plain": [
       "                                                Subject  \\\n",
       "0     Codeine/Hydrocodone/Phentermin/Vicodin 7.5/750...   \n",
       "1                               Re: Java is for kiddies   \n",
       "2                    [spam] [SPAM]  Jacob & Co. Watches   \n",
       "3                                 Re: asignar hora a PC   \n",
       "4                   Re: Problem detecting sleep in 10.6   \n",
       "...                                                 ...   \n",
       "1820                                Turkey City Lexicon   \n",
       "1821                          Re: Forged whitelist spam   \n",
       "1822                      Re: Boot / LVM best practices   \n",
       "1823                             Re: Secure Sofware Key   \n",
       "1824                                Good Use for ClamAV   \n",
       "\n",
       "                                                Content  \\\n",
       "0     p              Order from CanadianPharmacy & S...   \n",
       "1     s On Tue, 2002-08-27 at 08:58, Joseph S. Barre...   \n",
       "2     s Content-Type: text/plain\\tcharset=\"iso-8859-...   \n",
       "3     C On Wed, 28 Apr 2010 10:03:15 -0400 (EDT), Ca...   \n",
       "4     6 Hi Brandon,On 30 Apr 2010, at 17:14, Brandon...   \n",
       "...                                                 ...   \n",
       "1820  n URL: http://boingboing.net/#85506002Date: No...   \n",
       "1821  m -----BEGIN PGP SIGNED MESSAGE-----Hash: SHA1...   \n",
       "1822  s >>> If you're going to buy two drives, you'd...   \n",
       "1823  y Yannick Gingras wrote:>    I am wondering if...   \n",
       "1824  V I'll always be slowly catching up on comp te...   \n",
       "\n",
       "                                             Text_clain  wordNum  \\\n",
       "0     p order canadianpharmaci save money special ho...       82   \n",
       "1     tue 2002 08 27 08 58 joseph barrera iii wrote ...      248   \n",
       "2     content type text plain charset iso 8859 1 con...       70   \n",
       "3     c wed 28 apr 2010 10 03 15 0400 edt camal c3 b...      418   \n",
       "4     6 hi brandon 30 apr 2010 17 14 brandon moon wr...      120   \n",
       "...                                                 ...      ...   \n",
       "1820  n url http boingbo net 85506002date suppliedaf...      286   \n",
       "1821  begin pgp sign messag hash sha1gordon mohr wro...      259   \n",
       "1822  go buy two drive stupid use mirror fault toler...      148   \n",
       "1823  yannick gingra wrote wonder techniqu make cd k...      347   \n",
       "1824  v alway slowli catch comp tech use knoppix cla...      135   \n",
       "\n",
       "      messageLength  \n",
       "0               466  \n",
       "1               935  \n",
       "2               273  \n",
       "3              1339  \n",
       "4               562  \n",
       "...             ...  \n",
       "1820           1030  \n",
       "1821           1028  \n",
       "1822            531  \n",
       "1823           1146  \n",
       "1824            522  \n",
       "\n",
       "[1785 rows x 5 columns]"
      ]
     },
     "execution_count": 19,
     "metadata": {},
     "output_type": "execute_result"
    }
   ],
   "source": [
    "TestDataSet"
   ]
  },
  {
   "cell_type": "code",
   "execution_count": null,
   "metadata": {},
   "outputs": [],
   "source": []
  },
  {
   "cell_type": "code",
   "execution_count": 20,
   "metadata": {},
   "outputs": [],
   "source": [
    "#tfidf : utiliser pour determiner à quel point un mot est important pour un texte dans un groupe de texte. \n",
    "#il est calculé en multipliant la fréquence d'un mot et la fréquence inverse du document \n",
    "#(la fréquence d'un mot, calculée par log (nombre de texte / nombre de texte contenant le mot)) du mot dans un groupe de texte.\n",
    "tf=TfidfTransformer()\n",
    "temp_train=tf.fit_transform(temp_train)\n",
    "temp_val=tf.transform(temp_val)"
   ]
  },
  {
   "cell_type": "code",
   "execution_count": 21,
   "metadata": {},
   "outputs": [
    {
     "data": {
      "text/html": [
       "<div>\n",
       "<style scoped>\n",
       "    .dataframe tbody tr th:only-of-type {\n",
       "        vertical-align: middle;\n",
       "    }\n",
       "\n",
       "    .dataframe tbody tr th {\n",
       "        vertical-align: top;\n",
       "    }\n",
       "\n",
       "    .dataframe thead th {\n",
       "        text-align: right;\n",
       "    }\n",
       "</style>\n",
       "<table border=\"1\" class=\"dataframe\">\n",
       "  <thead>\n",
       "    <tr style=\"text-align: right;\">\n",
       "      <th></th>\n",
       "      <th>Subject</th>\n",
       "      <th>Content</th>\n",
       "      <th>Text_clain</th>\n",
       "      <th>wordNum</th>\n",
       "      <th>messageLength</th>\n",
       "      <th>0</th>\n",
       "      <th>1</th>\n",
       "      <th>2</th>\n",
       "      <th>3</th>\n",
       "      <th>4</th>\n",
       "      <th>...</th>\n",
       "      <th>440</th>\n",
       "      <th>441</th>\n",
       "      <th>442</th>\n",
       "      <th>443</th>\n",
       "      <th>444</th>\n",
       "      <th>445</th>\n",
       "      <th>446</th>\n",
       "      <th>447</th>\n",
       "      <th>448</th>\n",
       "      <th>449</th>\n",
       "    </tr>\n",
       "  </thead>\n",
       "  <tbody>\n",
       "    <tr>\n",
       "      <td>776</td>\n",
       "      <td>from heaven xB8COL5jqAf1adREAm</td>\n",
       "      <td>m Content-Type: multipart/alternative\\tboundar...</td>\n",
       "      <td>content type multipart altern boundari nextpar...</td>\n",
       "      <td>32</td>\n",
       "      <td>1774</td>\n",
       "      <td>0.000000</td>\n",
       "      <td>0.0</td>\n",
       "      <td>0.0</td>\n",
       "      <td>0.000000</td>\n",
       "      <td>0.0</td>\n",
       "      <td>...</td>\n",
       "      <td>0.0</td>\n",
       "      <td>0.0</td>\n",
       "      <td>0.000000</td>\n",
       "      <td>0.000000</td>\n",
       "      <td>0.0</td>\n",
       "      <td>0.0</td>\n",
       "      <td>0.000000</td>\n",
       "      <td>0.0</td>\n",
       "      <td>0.000000</td>\n",
       "      <td>0.0</td>\n",
       "    </tr>\n",
       "    <tr>\n",
       "      <td>1526</td>\n",
       "      <td>A man, a can, and a plan. Recipes for loser si...</td>\n",
       "      <td>s URL: http://www.newsisfree.com/click/-4,8260...</td>\n",
       "      <td>url http www newsisfre com click 4 8260638 171...</td>\n",
       "      <td>22</td>\n",
       "      <td>93</td>\n",
       "      <td>0.315296</td>\n",
       "      <td>0.0</td>\n",
       "      <td>0.0</td>\n",
       "      <td>0.330307</td>\n",
       "      <td>0.0</td>\n",
       "      <td>...</td>\n",
       "      <td>0.0</td>\n",
       "      <td>0.0</td>\n",
       "      <td>0.000000</td>\n",
       "      <td>0.185247</td>\n",
       "      <td>0.0</td>\n",
       "      <td>0.0</td>\n",
       "      <td>0.000000</td>\n",
       "      <td>0.0</td>\n",
       "      <td>0.000000</td>\n",
       "      <td>0.0</td>\n",
       "    </tr>\n",
       "    <tr>\n",
       "      <td>1623</td>\n",
       "      <td>Re: [zzzzteana] An announcement</td>\n",
       "      <td>t &gt; Mr Tim Chapman, freelance gentleman of let...</td>\n",
       "      <td>mr tim chapman freelanc gentleman letter halif...</td>\n",
       "      <td>67</td>\n",
       "      <td>311</td>\n",
       "      <td>0.000000</td>\n",
       "      <td>0.0</td>\n",
       "      <td>0.0</td>\n",
       "      <td>0.000000</td>\n",
       "      <td>0.0</td>\n",
       "      <td>...</td>\n",
       "      <td>0.0</td>\n",
       "      <td>0.0</td>\n",
       "      <td>0.000000</td>\n",
       "      <td>0.000000</td>\n",
       "      <td>0.0</td>\n",
       "      <td>0.0</td>\n",
       "      <td>0.555902</td>\n",
       "      <td>0.0</td>\n",
       "      <td>0.236363</td>\n",
       "      <td>0.0</td>\n",
       "    </tr>\n",
       "    <tr>\n",
       "      <td>1629</td>\n",
       "      <td>Re: Recommended Viewing</td>\n",
       "      <td>g On 8 Sep 2002 at 22:15, Geege Schuman wrote:...</td>\n",
       "      <td>g 8 sep 2002 22 15 geeg schuman wrote watch la...</td>\n",
       "      <td>47</td>\n",
       "      <td>152</td>\n",
       "      <td>0.000000</td>\n",
       "      <td>0.0</td>\n",
       "      <td>0.0</td>\n",
       "      <td>0.000000</td>\n",
       "      <td>0.0</td>\n",
       "      <td>...</td>\n",
       "      <td>0.0</td>\n",
       "      <td>0.0</td>\n",
       "      <td>0.142246</td>\n",
       "      <td>0.000000</td>\n",
       "      <td>0.0</td>\n",
       "      <td>0.0</td>\n",
       "      <td>0.000000</td>\n",
       "      <td>0.0</td>\n",
       "      <td>0.000000</td>\n",
       "      <td>0.0</td>\n",
       "    </tr>\n",
       "    <tr>\n",
       "      <td>2384</td>\n",
       "      <td>Re: [Razor-users] FW: intigration with qmail</td>\n",
       "      <td>l On Tue, Aug 13, 2002 at 09:44:33AM -0500, Mi...</td>\n",
       "      <td>l tue aug 13 2002 09 44 33am 0500 michael j hu...</td>\n",
       "      <td>247</td>\n",
       "      <td>986</td>\n",
       "      <td>0.000000</td>\n",
       "      <td>0.0</td>\n",
       "      <td>0.0</td>\n",
       "      <td>0.000000</td>\n",
       "      <td>0.0</td>\n",
       "      <td>...</td>\n",
       "      <td>0.0</td>\n",
       "      <td>0.0</td>\n",
       "      <td>0.059703</td>\n",
       "      <td>0.106387</td>\n",
       "      <td>0.0</td>\n",
       "      <td>0.0</td>\n",
       "      <td>0.000000</td>\n",
       "      <td>0.0</td>\n",
       "      <td>0.000000</td>\n",
       "      <td>0.0</td>\n",
       "    </tr>\n",
       "  </tbody>\n",
       "</table>\n",
       "<p>5 rows × 455 columns</p>\n",
       "</div>"
      ],
      "text/plain": [
       "                                                Subject  \\\n",
       "776                      from heaven xB8COL5jqAf1adREAm   \n",
       "1526  A man, a can, and a plan. Recipes for loser si...   \n",
       "1623                    Re: [zzzzteana] An announcement   \n",
       "1629                            Re: Recommended Viewing   \n",
       "2384       Re: [Razor-users] FW: intigration with qmail   \n",
       "\n",
       "                                                Content  \\\n",
       "776   m Content-Type: multipart/alternative\\tboundar...   \n",
       "1526  s URL: http://www.newsisfree.com/click/-4,8260...   \n",
       "1623  t > Mr Tim Chapman, freelance gentleman of let...   \n",
       "1629  g On 8 Sep 2002 at 22:15, Geege Schuman wrote:...   \n",
       "2384  l On Tue, Aug 13, 2002 at 09:44:33AM -0500, Mi...   \n",
       "\n",
       "                                             Text_clain  wordNum  \\\n",
       "776   content type multipart altern boundari nextpar...       32   \n",
       "1526  url http www newsisfre com click 4 8260638 171...       22   \n",
       "1623  mr tim chapman freelanc gentleman letter halif...       67   \n",
       "1629  g 8 sep 2002 22 15 geeg schuman wrote watch la...       47   \n",
       "2384  l tue aug 13 2002 09 44 33am 0500 michael j hu...      247   \n",
       "\n",
       "      messageLength         0    1    2         3    4  ...  440  441  \\\n",
       "776            1774  0.000000  0.0  0.0  0.000000  0.0  ...  0.0  0.0   \n",
       "1526             93  0.315296  0.0  0.0  0.330307  0.0  ...  0.0  0.0   \n",
       "1623            311  0.000000  0.0  0.0  0.000000  0.0  ...  0.0  0.0   \n",
       "1629            152  0.000000  0.0  0.0  0.000000  0.0  ...  0.0  0.0   \n",
       "2384            986  0.000000  0.0  0.0  0.000000  0.0  ...  0.0  0.0   \n",
       "\n",
       "           442       443  444  445       446  447       448  449  \n",
       "776   0.000000  0.000000  0.0  0.0  0.000000  0.0  0.000000  0.0  \n",
       "1526  0.000000  0.185247  0.0  0.0  0.000000  0.0  0.000000  0.0  \n",
       "1623  0.000000  0.000000  0.0  0.0  0.555902  0.0  0.236363  0.0  \n",
       "1629  0.142246  0.000000  0.0  0.0  0.000000  0.0  0.000000  0.0  \n",
       "2384  0.059703  0.106387  0.0  0.0  0.000000  0.0  0.000000  0.0  \n",
       "\n",
       "[5 rows x 455 columns]"
      ]
     },
     "execution_count": 21,
     "metadata": {},
     "output_type": "execute_result"
    }
   ],
   "source": [
    "#merging temp datafram with original dataframe\n",
    "temp_train=pd.DataFrame(temp_train.toarray(),index=x_train.index)\n",
    "temp_val=pd.DataFrame(temp_val.toarray(),index=x_val.index)\n",
    "x_train=pd.concat([x_train,temp_train],axis=1,sort=False)\n",
    "x_val=pd.concat([x_val,temp_val],axis=1,sort=False)\n",
    "\n",
    "x_train.head()"
   ]
  },
  {
   "cell_type": "code",
   "execution_count": 22,
   "metadata": {},
   "outputs": [
    {
     "data": {
      "text/html": [
       "<div>\n",
       "<style scoped>\n",
       "    .dataframe tbody tr th:only-of-type {\n",
       "        vertical-align: middle;\n",
       "    }\n",
       "\n",
       "    .dataframe tbody tr th {\n",
       "        vertical-align: top;\n",
       "    }\n",
       "\n",
       "    .dataframe thead th {\n",
       "        text-align: right;\n",
       "    }\n",
       "</style>\n",
       "<table border=\"1\" class=\"dataframe\">\n",
       "  <thead>\n",
       "    <tr style=\"text-align: right;\">\n",
       "      <th></th>\n",
       "      <th>wordNum</th>\n",
       "      <th>messageLength</th>\n",
       "      <th>0</th>\n",
       "      <th>1</th>\n",
       "      <th>2</th>\n",
       "      <th>3</th>\n",
       "      <th>4</th>\n",
       "      <th>5</th>\n",
       "      <th>6</th>\n",
       "      <th>7</th>\n",
       "      <th>...</th>\n",
       "      <th>440</th>\n",
       "      <th>441</th>\n",
       "      <th>442</th>\n",
       "      <th>443</th>\n",
       "      <th>444</th>\n",
       "      <th>445</th>\n",
       "      <th>446</th>\n",
       "      <th>447</th>\n",
       "      <th>448</th>\n",
       "      <th>449</th>\n",
       "    </tr>\n",
       "  </thead>\n",
       "  <tbody>\n",
       "    <tr>\n",
       "      <td>776</td>\n",
       "      <td>32</td>\n",
       "      <td>1774</td>\n",
       "      <td>0.000000</td>\n",
       "      <td>0.0</td>\n",
       "      <td>0.0</td>\n",
       "      <td>0.000000</td>\n",
       "      <td>0.0</td>\n",
       "      <td>0.0</td>\n",
       "      <td>0.0</td>\n",
       "      <td>0.000000</td>\n",
       "      <td>...</td>\n",
       "      <td>0.0</td>\n",
       "      <td>0.0</td>\n",
       "      <td>0.000000</td>\n",
       "      <td>0.000000</td>\n",
       "      <td>0.0</td>\n",
       "      <td>0.0</td>\n",
       "      <td>0.000000</td>\n",
       "      <td>0.0</td>\n",
       "      <td>0.000000</td>\n",
       "      <td>0.0</td>\n",
       "    </tr>\n",
       "    <tr>\n",
       "      <td>1526</td>\n",
       "      <td>22</td>\n",
       "      <td>93</td>\n",
       "      <td>0.315296</td>\n",
       "      <td>0.0</td>\n",
       "      <td>0.0</td>\n",
       "      <td>0.330307</td>\n",
       "      <td>0.0</td>\n",
       "      <td>0.0</td>\n",
       "      <td>0.0</td>\n",
       "      <td>0.349239</td>\n",
       "      <td>...</td>\n",
       "      <td>0.0</td>\n",
       "      <td>0.0</td>\n",
       "      <td>0.000000</td>\n",
       "      <td>0.185247</td>\n",
       "      <td>0.0</td>\n",
       "      <td>0.0</td>\n",
       "      <td>0.000000</td>\n",
       "      <td>0.0</td>\n",
       "      <td>0.000000</td>\n",
       "      <td>0.0</td>\n",
       "    </tr>\n",
       "    <tr>\n",
       "      <td>1623</td>\n",
       "      <td>67</td>\n",
       "      <td>311</td>\n",
       "      <td>0.000000</td>\n",
       "      <td>0.0</td>\n",
       "      <td>0.0</td>\n",
       "      <td>0.000000</td>\n",
       "      <td>0.0</td>\n",
       "      <td>0.0</td>\n",
       "      <td>0.0</td>\n",
       "      <td>0.000000</td>\n",
       "      <td>...</td>\n",
       "      <td>0.0</td>\n",
       "      <td>0.0</td>\n",
       "      <td>0.000000</td>\n",
       "      <td>0.000000</td>\n",
       "      <td>0.0</td>\n",
       "      <td>0.0</td>\n",
       "      <td>0.555902</td>\n",
       "      <td>0.0</td>\n",
       "      <td>0.236363</td>\n",
       "      <td>0.0</td>\n",
       "    </tr>\n",
       "    <tr>\n",
       "      <td>1629</td>\n",
       "      <td>47</td>\n",
       "      <td>152</td>\n",
       "      <td>0.000000</td>\n",
       "      <td>0.0</td>\n",
       "      <td>0.0</td>\n",
       "      <td>0.000000</td>\n",
       "      <td>0.0</td>\n",
       "      <td>0.0</td>\n",
       "      <td>0.0</td>\n",
       "      <td>0.000000</td>\n",
       "      <td>...</td>\n",
       "      <td>0.0</td>\n",
       "      <td>0.0</td>\n",
       "      <td>0.142246</td>\n",
       "      <td>0.000000</td>\n",
       "      <td>0.0</td>\n",
       "      <td>0.0</td>\n",
       "      <td>0.000000</td>\n",
       "      <td>0.0</td>\n",
       "      <td>0.000000</td>\n",
       "      <td>0.0</td>\n",
       "    </tr>\n",
       "    <tr>\n",
       "      <td>2384</td>\n",
       "      <td>247</td>\n",
       "      <td>986</td>\n",
       "      <td>0.000000</td>\n",
       "      <td>0.0</td>\n",
       "      <td>0.0</td>\n",
       "      <td>0.000000</td>\n",
       "      <td>0.0</td>\n",
       "      <td>0.0</td>\n",
       "      <td>0.0</td>\n",
       "      <td>0.100284</td>\n",
       "      <td>...</td>\n",
       "      <td>0.0</td>\n",
       "      <td>0.0</td>\n",
       "      <td>0.059703</td>\n",
       "      <td>0.106387</td>\n",
       "      <td>0.0</td>\n",
       "      <td>0.0</td>\n",
       "      <td>0.000000</td>\n",
       "      <td>0.0</td>\n",
       "      <td>0.000000</td>\n",
       "      <td>0.0</td>\n",
       "    </tr>\n",
       "  </tbody>\n",
       "</table>\n",
       "<p>5 rows × 452 columns</p>\n",
       "</div>"
      ],
      "text/plain": [
       "      wordNum  messageLength         0    1    2         3    4    5    6  \\\n",
       "776        32           1774  0.000000  0.0  0.0  0.000000  0.0  0.0  0.0   \n",
       "1526       22             93  0.315296  0.0  0.0  0.330307  0.0  0.0  0.0   \n",
       "1623       67            311  0.000000  0.0  0.0  0.000000  0.0  0.0  0.0   \n",
       "1629       47            152  0.000000  0.0  0.0  0.000000  0.0  0.0  0.0   \n",
       "2384      247            986  0.000000  0.0  0.0  0.000000  0.0  0.0  0.0   \n",
       "\n",
       "             7  ...  440  441       442       443  444  445       446  447  \\\n",
       "776   0.000000  ...  0.0  0.0  0.000000  0.000000  0.0  0.0  0.000000  0.0   \n",
       "1526  0.349239  ...  0.0  0.0  0.000000  0.185247  0.0  0.0  0.000000  0.0   \n",
       "1623  0.000000  ...  0.0  0.0  0.000000  0.000000  0.0  0.0  0.555902  0.0   \n",
       "1629  0.000000  ...  0.0  0.0  0.142246  0.000000  0.0  0.0  0.000000  0.0   \n",
       "2384  0.100284  ...  0.0  0.0  0.059703  0.106387  0.0  0.0  0.000000  0.0   \n",
       "\n",
       "           448  449  \n",
       "776   0.000000  0.0  \n",
       "1526  0.000000  0.0  \n",
       "1623  0.236363  0.0  \n",
       "1629  0.000000  0.0  \n",
       "2384  0.000000  0.0  \n",
       "\n",
       "[5 rows x 452 columns]"
      ]
     },
     "execution_count": 22,
     "metadata": {},
     "output_type": "execute_result"
    }
   ],
   "source": [
    "#supression de toutes les colonne des texte.\n",
    "\n",
    "x_train.drop(['Subject'],axis=1,inplace=True)\n",
    "x_train.drop(['Content'],axis=1,inplace=True)\n",
    "x_train.drop(['Text_clain'],axis=1,inplace=True)\n",
    "\n",
    "x_val.drop(['Subject'],axis=1,inplace=True)\n",
    "x_val.drop(['Content'],axis=1,inplace=True)\n",
    "x_val.drop(['Text_clain'],axis=1,inplace=True)\n",
    "\n",
    "x_train.head()"
   ]
  },
  {
   "cell_type": "code",
   "execution_count": 24,
   "metadata": {},
   "outputs": [
    {
     "name": "stdout",
     "output_type": "stream",
     "text": [
      "K_Nearest_Neighbors\n",
      "Decision_Tree\n",
      "Random_Forest\n",
      "Logistic_Regression\n",
      "SGD_Classifier\n",
      "Naive_Bayes\n",
      "SVM_Linear\n"
     ]
    },
    {
     "data": {
      "image/png": "[encoded data removed]",
      "text/plain": [
       "<Figure size 432x288 with 1 Axes>"
      ]
     },
     "metadata": {
      "needs_background": "light"
     },
     "output_type": "display_data"
    }
   ],
   "source": [
    "\n",
    "\n",
    "names = [\"K_Nearest_Neighbors\", \"Decision_Tree\", \"Random_Forest\", \"Logistic_Regression\", \"SGD_Classifier\", \"Naive_Bayes\", \"SVM_Linear\"]\n",
    "\n",
    "Y_preds={}\n",
    "\n",
    "classifiers = [\n",
    "    KNeighborsClassifier(),\n",
    "    DecisionTreeClassifier(random_state=0),\n",
    "    RandomForestClassifier(),\n",
    "    LogisticRegression(),\n",
    "    SGDClassifier(max_iter = 100),\n",
    "    MultinomialNB(),\n",
    "    SVC(kernel = 'linear')\n",
    "]\n",
    "\n",
    "models = zip(names, classifiers)\n",
    "score = {}\n",
    "\n",
    "for name, model in models:\n",
    "    model.fit(x_train, y_train)\n",
    "    y_preds = model.predict(x_val)\n",
    "    Y_preds[name]=y_preds\n",
    "    score[name]= [accuracy_score(y_val, y_preds), 1,4]\n",
    "    print(name)\n",
    "    sns.countplot(y_preds)\n",
    "#     print(\"Precision: {:.2f}%\".format(100 * precision_score(y_val, y_preds)))\n",
    "#     print(\"Recall: {:.2f}%\".format(100 * recall_score(y_val, y_preds)))\n",
    "#     print(\"Confusion Matrix:\\n\") \n",
    "#     confusion_m = confusion_matrix(y_val, y_preds)\n",
    "#     print(confusion_m)"
   ]
  },
  {
   "cell_type": "code",
   "execution_count": 25,
   "metadata": {},
   "outputs": [
    {
     "data": {
      "text/plain": [
       "{'K_Nearest_Neighbors': [0.7754677754677755, 1, 4],\n",
       " 'Decision_Tree': [0.9293139293139293, 1, 4],\n",
       " 'Random_Forest': [0.9542619542619543, 1, 4],\n",
       " 'Logistic_Regression': [0.9563409563409564, 1, 4],\n",
       " 'SGD_Classifier': [0.6902286902286903, 1, 4],\n",
       " 'Naive_Bayes': [0.83991683991684, 1, 4],\n",
       " 'SVM_Linear': [0.920997920997921, 1, 4]}"
      ]
     },
     "execution_count": 25,
     "metadata": {},
     "output_type": "execute_result"
    }
   ],
   "source": [
    "score"
   ]
  },
  {
   "cell_type": "code",
   "execution_count": 26,
   "metadata": {},
   "outputs": [
    {
     "name": "stdout",
     "output_type": "stream",
     "text": [
      "\n",
      "\n",
      "\n",
      "\n",
      "\n",
      "\n",
      "        Table: Performance comparison and cross validation: Training set   \n",
      "\n",
      "+-----------------------------------------------------------+\n",
      "|ALGORITHME           |      evaluation  metrics            | \n",
      "+-----------------------------------------------------------+\n",
      "|                     |  accuracy |  precision |     recall |\n",
      "|###########################################################|\n",
      "|  K_Nearest_Neighbors| 77.55 %   | 100.00 %   | 400.00 %   |\n",
      "+-----------------------------------------------------------+           \n",
      "|        Decision_Tree| 92.93 %   | 100.00 %   | 400.00 %   |\n",
      "+-----------------------------------------------------------+           \n",
      "|        Random_Forest| 95.43 %   | 100.00 %   | 400.00 %   |\n",
      "+-----------------------------------------------------------+           \n",
      "|  Logistic_Regression| 95.63 %   | 100.00 %   | 400.00 %   |\n",
      "+-----------------------------------------------------------+           \n",
      "|       SGD_Classifier| 69.02 %   | 100.00 %   | 400.00 %   |\n",
      "+-----------------------------------------------------------+           \n",
      "|          Naive_Bayes| 83.99 %   | 100.00 %   | 400.00 %   |\n",
      "+-----------------------------------------------------------+           \n",
      "|           SVM_Linear| 92.10 %   | 100.00 %   | 400.00 %   |\n",
      "+-----------------------------------------------------------+           \n"
     ]
    }
   ],
   "source": [
    "save_results(names, score)\n",
    "printfile()"
   ]
  },
  {
   "cell_type": "code",
   "execution_count": 30,
   "metadata": {},
   "outputs": [
    {
     "data": {
      "text/plain": [
       "<matplotlib.axes._subplots.AxesSubplot at 0x7fbbf1706250>"
      ]
     },
     "execution_count": 30,
     "metadata": {},
     "output_type": "execute_result"
    },
    {
     "data": {
      "image/png": "[encoded data removed]",
      "text/plain": [
       "<Figure size 432x288 with 1 Axes>"
      ]
     },
     "metadata": {
      "needs_background": "light"
     },
     "output_type": "display_data"
    }
   ],
   "source": [
    "sns.countplot(Y_preds['K_Nearest_Neighbors'])"
   ]
  },
  {
   "cell_type": "code",
   "execution_count": 31,
   "metadata": {},
   "outputs": [
    {
     "data": {
      "text/plain": [
       "<matplotlib.axes._subplots.AxesSubplot at 0x7fbbf3b85d50>"
      ]
     },
     "execution_count": 31,
     "metadata": {},
     "output_type": "execute_result"
    },
    {
     "data": {
      "image/png": "[encoded data removed]",
      "text/plain": [
       "<Figure size 432x288 with 1 Axes>"
      ]
     },
     "metadata": {
      "needs_background": "light"
     },
     "output_type": "display_data"
    }
   ],
   "source": [
    "sns.countplot(Y_preds['Decision_Tree'])"
   ]
  },
  {
   "cell_type": "code",
   "execution_count": 32,
   "metadata": {},
   "outputs": [
    {
     "data": {
      "text/plain": [
       "<matplotlib.axes._subplots.AxesSubplot at 0x7fbbf3baa5d0>"
      ]
     },
     "execution_count": 32,
     "metadata": {},
     "output_type": "execute_result"
    },
    {
     "data": {
      "image/png": "[encoded data removed]",
      "text/plain": [
       "<Figure size 432x288 with 1 Axes>"
      ]
     },
     "metadata": {
      "needs_background": "light"
     },
     "output_type": "display_data"
    }
   ],
   "source": [
    "sns.countplot(Y_preds['Random_Forest'])"
   ]
  },
  {
   "cell_type": "code",
   "execution_count": 33,
   "metadata": {},
   "outputs": [
    {
     "data": {
      "text/plain": [
       "<matplotlib.axes._subplots.AxesSubplot at 0x7fbbf3cd91d0>"
      ]
     },
     "execution_count": 33,
     "metadata": {},
     "output_type": "execute_result"
    },
    {
     "data": {
      "image/png": "[encoded data removed]",
      "text/plain": [
       "<Figure size 432x288 with 1 Axes>"
      ]
     },
     "metadata": {
      "needs_background": "light"
     },
     "output_type": "display_data"
    }
   ],
   "source": [
    "sns.countplot(Y_preds['Logistic_Regression'])"
   ]
  },
  {
   "cell_type": "code",
   "execution_count": 34,
   "metadata": {},
   "outputs": [
    {
     "data": {
      "text/plain": [
       "<matplotlib.axes._subplots.AxesSubplot at 0x7fbbf9988410>"
      ]
     },
     "execution_count": 34,
     "metadata": {},
     "output_type": "execute_result"
    },
    {
     "data": {
      "image/png": "[encoded data removed]",
      "text/plain": [
       "<Figure size 432x288 with 1 Axes>"
      ]
     },
     "metadata": {
      "needs_background": "light"
     },
     "output_type": "display_data"
    }
   ],
   "source": [
    "sns.countplot(Y_preds['SGD_Classifier'])"
   ]
  },
  {
   "cell_type": "code",
   "execution_count": 35,
   "metadata": {},
   "outputs": [
    {
     "data": {
      "text/plain": [
       "<matplotlib.axes._subplots.AxesSubplot at 0x7fbc0ac59610>"
      ]
     },
     "execution_count": 35,
     "metadata": {},
     "output_type": "execute_result"
    },
    {
     "data": {
      "image/png": "[encoded data removed]",
      "text/plain": [
       "<Figure size 432x288 with 1 Axes>"
      ]
     },
     "metadata": {
      "needs_background": "light"
     },
     "output_type": "display_data"
    }
   ],
   "source": [
    "sns.countplot(Y_preds['Naive_Bayes'])"
   ]
  },
  {
   "cell_type": "code",
   "execution_count": 36,
   "metadata": {},
   "outputs": [
    {
     "data": {
      "text/plain": [
       "<matplotlib.axes._subplots.AxesSubplot at 0x7fbbf395a5d0>"
      ]
     },
     "execution_count": 36,
     "metadata": {},
     "output_type": "execute_result"
    },
    {
     "data": {
      "image/png": "[encoded data removed]",
      "text/plain": [
       "<Figure size 432x288 with 1 Axes>"
      ]
     },
     "metadata": {
      "needs_background": "light"
     },
     "output_type": "display_data"
    }
   ],
   "source": [
    "sns.countplot(Y_preds['SVM_Linear'])"
   ]
  },
  {
   "cell_type": "code",
   "execution_count": null,
   "metadata": {},
   "outputs": [],
   "source": []
  }
 ],
 "metadata": {
  "kernelspec": {
   "display_name": "Python 3",
   "language": "python",
   "name": "python3"
  },
  "language_info": {
   "codemirror_mode": {
    "name": "ipython",
    "version": 3
   },
   "file_extension": ".py",
   "mimetype": "text/x-python",
   "name": "python",
   "nbconvert_exporter": "python",
   "pygments_lexer": "ipython3",
   "version": "3.7.4"
  }
 },
 "nbformat": 4,
 "nbformat_minor": 4
}
